{
 "cells": [
  {
   "cell_type": "code",
   "execution_count": 1,
   "metadata": {},
   "outputs": [],
   "source": [
    "import numpy as np\n",
    "import pandas as pd\n",
    "from numpy.linalg import inv,eig, det\n",
    "from math import sqrt,exp,pi,log\n",
    "\n",
    "import pickle\n",
    "from joblib import dump, load\n",
    "\n",
    "\n",
    "from scipy.stats import chi2_contingency\n",
    "from sklearn import utils\n",
    "from sklearn import preprocessing\n",
    "from sklearn.metrics import mean_squared_error\n",
    "from sklearn.metrics import r2_score\n",
    "from sklearn.model_selection import train_test_split\n",
    "from sklearn.ensemble import RandomForestRegressor\n",
    "from sklearn.model_selection import GridSearchCV\n",
    "from sklearn.model_selection import RandomizedSearchCV\n",
    "\n",
    "import matplotlib as mpl\n",
    "import matplotlib.pyplot as plt"
   ]
  },
  {
   "cell_type": "markdown",
   "metadata": {},
   "source": [
    "# read data"
   ]
  },
  {
   "cell_type": "code",
   "execution_count": 4,
   "metadata": {},
   "outputs": [
    {
     "data": {
      "text/html": [
       "<div>\n",
       "<style scoped>\n",
       "    .dataframe tbody tr th:only-of-type {\n",
       "        vertical-align: middle;\n",
       "    }\n",
       "\n",
       "    .dataframe tbody tr th {\n",
       "        vertical-align: top;\n",
       "    }\n",
       "\n",
       "    .dataframe thead th {\n",
       "        text-align: right;\n",
       "    }\n",
       "</style>\n",
       "<table border=\"1\" class=\"dataframe\">\n",
       "  <thead>\n",
       "    <tr style=\"text-align: right;\">\n",
       "      <th></th>\n",
       "      <th>GH</th>\n",
       "      <th>A</th>\n",
       "      <th>B</th>\n",
       "      <th>C</th>\n",
       "      <th>D</th>\n",
       "      <th>E</th>\n",
       "    </tr>\n",
       "  </thead>\n",
       "  <tbody>\n",
       "    <tr>\n",
       "      <th>0</th>\n",
       "      <td>0.477963</td>\n",
       "      <td>1.335427</td>\n",
       "      <td>1.107740</td>\n",
       "      <td>1.632211</td>\n",
       "      <td>1.324698</td>\n",
       "      <td>0.113525</td>\n",
       "    </tr>\n",
       "    <tr>\n",
       "      <th>1</th>\n",
       "      <td>1.358324</td>\n",
       "      <td>0.024944</td>\n",
       "      <td>0.089729</td>\n",
       "      <td>-0.193301</td>\n",
       "      <td>-0.092795</td>\n",
       "      <td>-0.479850</td>\n",
       "    </tr>\n",
       "    <tr>\n",
       "      <th>2</th>\n",
       "      <td>0.696354</td>\n",
       "      <td>1.176630</td>\n",
       "      <td>1.744841</td>\n",
       "      <td>2.391572</td>\n",
       "      <td>2.053517</td>\n",
       "      <td>-0.642836</td>\n",
       "    </tr>\n",
       "    <tr>\n",
       "      <th>3</th>\n",
       "      <td>0.567620</td>\n",
       "      <td>2.334843</td>\n",
       "      <td>2.693940</td>\n",
       "      <td>2.195762</td>\n",
       "      <td>2.485904</td>\n",
       "      <td>1.118101</td>\n",
       "    </tr>\n",
       "    <tr>\n",
       "      <th>4</th>\n",
       "      <td>1.239236</td>\n",
       "      <td>0.645821</td>\n",
       "      <td>0.492072</td>\n",
       "      <td>0.013845</td>\n",
       "      <td>0.048179</td>\n",
       "      <td>-1.158008</td>\n",
       "    </tr>\n",
       "    <tr>\n",
       "      <th>...</th>\n",
       "      <td>...</td>\n",
       "      <td>...</td>\n",
       "      <td>...</td>\n",
       "      <td>...</td>\n",
       "      <td>...</td>\n",
       "      <td>...</td>\n",
       "    </tr>\n",
       "    <tr>\n",
       "      <th>145</th>\n",
       "      <td>-0.797232</td>\n",
       "      <td>4.708087</td>\n",
       "      <td>5.037075</td>\n",
       "      <td>4.243622</td>\n",
       "      <td>5.163987</td>\n",
       "      <td>3.178900</td>\n",
       "    </tr>\n",
       "    <tr>\n",
       "      <th>146</th>\n",
       "      <td>-0.918804</td>\n",
       "      <td>5.702825</td>\n",
       "      <td>5.145200</td>\n",
       "      <td>5.706707</td>\n",
       "      <td>3.910995</td>\n",
       "      <td>4.074553</td>\n",
       "    </tr>\n",
       "    <tr>\n",
       "      <th>147</th>\n",
       "      <td>-3.566696</td>\n",
       "      <td>13.284310</td>\n",
       "      <td>11.825719</td>\n",
       "      <td>8.187209</td>\n",
       "      <td>8.222029</td>\n",
       "      <td>7.073138</td>\n",
       "    </tr>\n",
       "    <tr>\n",
       "      <th>148</th>\n",
       "      <td>-0.190484</td>\n",
       "      <td>6.251279</td>\n",
       "      <td>6.008799</td>\n",
       "      <td>6.278541</td>\n",
       "      <td>6.277266</td>\n",
       "      <td>5.089915</td>\n",
       "    </tr>\n",
       "    <tr>\n",
       "      <th>149</th>\n",
       "      <td>0.207222</td>\n",
       "      <td>3.344317</td>\n",
       "      <td>4.327544</td>\n",
       "      <td>4.053865</td>\n",
       "      <td>3.512589</td>\n",
       "      <td>2.260530</td>\n",
       "    </tr>\n",
       "  </tbody>\n",
       "</table>\n",
       "<p>150 rows × 6 columns</p>\n",
       "</div>"
      ],
      "text/plain": [
       "           GH          A          B         C         D         E\n",
       "0    0.477963   1.335427   1.107740  1.632211  1.324698  0.113525\n",
       "1    1.358324   0.024944   0.089729 -0.193301 -0.092795 -0.479850\n",
       "2    0.696354   1.176630   1.744841  2.391572  2.053517 -0.642836\n",
       "3    0.567620   2.334843   2.693940  2.195762  2.485904  1.118101\n",
       "4    1.239236   0.645821   0.492072  0.013845  0.048179 -1.158008\n",
       "..        ...        ...        ...       ...       ...       ...\n",
       "145 -0.797232   4.708087   5.037075  4.243622  5.163987  3.178900\n",
       "146 -0.918804   5.702825   5.145200  5.706707  3.910995  4.074553\n",
       "147 -3.566696  13.284310  11.825719  8.187209  8.222029  7.073138\n",
       "148 -0.190484   6.251279   6.008799  6.278541  6.277266  5.089915\n",
       "149  0.207222   3.344317   4.327544  4.053865  3.512589  2.260530\n",
       "\n",
       "[150 rows x 6 columns]"
      ]
     },
     "execution_count": 4,
     "metadata": {},
     "output_type": "execute_result"
    }
   ],
   "source": [
    "data = pd.read_excel('list-GP.xlsx',header=0)\n",
    "# data = pd.read_excel('list-RFE.xlsx',header=0)\n",
    "data = data.iloc[:,1:]\n",
    "data"
   ]
  },
  {
   "cell_type": "markdown",
   "metadata": {},
   "source": [
    "# initial parameter setting"
   ]
  },
  {
   "cell_type": "code",
   "execution_count": 14,
   "metadata": {},
   "outputs": [],
   "source": [
    "global N\n",
    "global test_size     \n",
    "N=20     # runing time for prediction\n",
    "test_size=0.20   # the ratio of testing set"
   ]
  },
  {
   "cell_type": "markdown",
   "metadata": {},
   "source": [
    "# Defined function"
   ]
  },
  {
   "cell_type": "code",
   "execution_count": 15,
   "metadata": {},
   "outputs": [],
   "source": [
    "##  Model regression\n",
    "def fitRegression(inputData,outputData,test_size,N,search):\n",
    "    r2 = []\n",
    "    rmse = []   # 存储算出的r2和rmse\n",
    "    imp = []\n",
    "    for i in range(N):\n",
    "        print('---------round: %d---------'%i)\n",
    "        X_train,X_test,y_train,y_test = train_test_split(inputData,outputData,test_size=test_size,random_state=None) # 随机分割数据 \n",
    "                                                                                                                 # 该方法对dataframe也适用\n",
    "        #分别初始化对特征和目标值的标准化器\n",
    "        min_max_scaler = preprocessing.MinMaxScaler()\n",
    "        #分别对训练和测试数据的特征以及目标值进行标准化处理\n",
    "        X_train=min_max_scaler.fit_transform(X_train)\n",
    "        X_test=min_max_scaler.fit_transform(X_test)\n",
    "        y_train=min_max_scaler.fit_transform(y_train.reshape(-1,1)).ravel()#reshape(-1,1)指将它转化为1列，行自动确定\n",
    "        y_test=min_max_scaler.fit_transform(y_test.reshape(-1,1)).ravel()#reshape(-1,1)指将它转化为1列，行自动确定        \n",
    "        \n",
    "        \n",
    "        search.fit(X_train,y_train)      # 拟合\n",
    "        regr = search.best_estimator_\n",
    "        \n",
    "        score = regr.score(X_test,y_test)  # 评分\n",
    "        error = mean_squared_error(y_test,regr.predict(X_test),squared=False)\n",
    "        importance = regr.feature_importances_\n",
    "\n",
    "        r2.append(score)   #将评分存储至列表中\n",
    "        rmse.append(error)\n",
    "        imp.append(importance)\n",
    "        print('r2:   %.3f'%score)\n",
    "        print('RMSE: %.3f'%error)\n",
    "\n",
    "        if i == 0:\n",
    "            max_score = score           # 第0次运行时，记录此时的r2和模型\n",
    "            choose_regr = pickle.dumps(regr)     # 模型将被保存至内存\n",
    "            print('model has benn saved')\n",
    "        if i>0:\n",
    "            if score>max_score:\n",
    "                max_score = score       # 在之后的运行中，更新最高r2的值，并保存模型以及此次随机分割后的数据\n",
    "                X_train_best = X_train\n",
    "                y_train_best = y_train\n",
    "                X_test_best = X_test\n",
    "                y_test_best = y_test\n",
    "                choose_regr = pickle.dumps(regr)     \n",
    "                print('model has benn saved')\n",
    "        print('--------------------------')\n",
    "    return r2,rmse,imp,X_train_best,y_train_best,X_test_best,y_test_best,choose_regr"
   ]
  },
  {
   "cell_type": "code",
   "execution_count": 16,
   "metadata": {},
   "outputs": [],
   "source": [
    "##  GridCv range generation\n",
    "def generateRfrParamGrid(low1,high1,num1,low2,high2,num2):      # \n",
    "    param_grid = {\n",
    "        'n_estimators':np.arange(int(low1),int(high1),int(num1)),\n",
    "        'max_depth':np.arange(int(low2),int(high2),int(num2))\n",
    "    }\n",
    "    return param_grid"
   ]
  },
  {
   "cell_type": "markdown",
   "metadata": {},
   "source": [
    "# run rfr model"
   ]
  },
  {
   "cell_type": "code",
   "execution_count": 18,
   "metadata": {},
   "outputs": [
    {
     "name": "stdout",
     "output_type": "stream",
     "text": [
      "---------round: 0---------\n",
      "r2:   0.722\n",
      "RMSE: 0.127\n",
      "model has benn saved\n",
      "--------------------------\n",
      "---------round: 1---------\n",
      "r2:   0.760\n",
      "RMSE: 0.130\n",
      "model has benn saved\n",
      "--------------------------\n",
      "---------round: 2---------\n",
      "r2:   0.848\n",
      "RMSE: 0.090\n",
      "model has benn saved\n",
      "--------------------------\n",
      "---------round: 3---------\n",
      "r2:   0.747\n",
      "RMSE: 0.127\n",
      "--------------------------\n",
      "---------round: 4---------\n",
      "r2:   0.771\n",
      "RMSE: 0.107\n",
      "--------------------------\n",
      "---------round: 5---------\n",
      "r2:   0.741\n",
      "RMSE: 0.136\n",
      "--------------------------\n",
      "---------round: 6---------\n",
      "r2:   0.698\n",
      "RMSE: 0.157\n",
      "--------------------------\n",
      "---------round: 7---------\n",
      "r2:   0.739\n",
      "RMSE: 0.100\n",
      "--------------------------\n",
      "---------round: 8---------\n",
      "r2:   0.801\n",
      "RMSE: 0.110\n",
      "--------------------------\n",
      "---------round: 9---------\n",
      "r2:   0.651\n",
      "RMSE: 0.122\n",
      "--------------------------\n",
      "---------round: 10---------\n",
      "r2:   0.711\n",
      "RMSE: 0.111\n",
      "--------------------------\n",
      "---------round: 11---------\n",
      "r2:   0.676\n",
      "RMSE: 0.143\n",
      "--------------------------\n",
      "---------round: 12---------\n",
      "r2:   0.692\n",
      "RMSE: 0.137\n",
      "--------------------------\n",
      "---------round: 13---------\n",
      "r2:   0.716\n",
      "RMSE: 0.127\n",
      "--------------------------\n",
      "---------round: 14---------\n",
      "r2:   0.713\n",
      "RMSE: 0.133\n",
      "--------------------------\n",
      "---------round: 15---------\n",
      "r2:   0.767\n",
      "RMSE: 0.137\n",
      "--------------------------\n",
      "---------round: 16---------\n",
      "r2:   0.768\n",
      "RMSE: 0.145\n",
      "--------------------------\n",
      "---------round: 17---------\n",
      "r2:   0.799\n",
      "RMSE: 0.117\n",
      "--------------------------\n",
      "---------round: 18---------\n",
      "r2:   0.805\n",
      "RMSE: 0.097\n",
      "--------------------------\n",
      "---------round: 19---------\n",
      "r2:   0.703\n",
      "RMSE: 0.149\n",
      "--------------------------\n"
     ]
    }
   ],
   "source": [
    "x_data = np.array(data.iloc[:,1:])\n",
    "y_data = np.array(data.iloc[:,0])\n",
    "param_grid = generateRfrParamGrid(300,500,10,3,7,1)\n",
    "# param_grid = generateRfrParamGrid(300,400,100,3,7,3)\n",
    "rfr = RandomForestRegressor()\n",
    "search = GridSearchCV(rfr,param_grid=param_grid,n_jobs=-1,cv=10)\n",
    "r2,rmse,imp,X_train_best,y_train_best,X_test_best,y_test_best,choose_rfr= \\\n",
    "fitRegression(x_data,y_data,test_size,N,search)"
   ]
  },
  {
   "cell_type": "markdown",
   "metadata": {},
   "source": [
    "# calculate feature importance"
   ]
  },
  {
   "cell_type": "code",
   "execution_count": 21,
   "metadata": {},
   "outputs": [
    {
     "name": "stdout",
     "output_type": "stream",
     "text": [
      "0.7413139865531234\n",
      "0.12504736298318933\n",
      "[0.22380352 0.36332236 0.13152507 0.06542661 0.21592244]\n",
      "[0.07917424 0.11112728 0.04250288 0.01142203 0.0897893 ]\n"
     ]
    }
   ],
   "source": [
    "print(np.mean(r2))\n",
    "print(np.mean(rmse))\n",
    "imp = np.array(imp)\n",
    "print(imp.mean(axis=0)) #特征值重要度\n",
    "print(np.std(imp, axis=0,ddof = 1)) #特征值无偏std"
   ]
  },
  {
   "cell_type": "markdown",
   "metadata": {},
   "source": [
    "# output feature importance"
   ]
  },
  {
   "cell_type": "code",
   "execution_count": 22,
   "metadata": {},
   "outputs": [],
   "source": [
    "Feature_imp_std = np.vstack((imp.mean(axis=0),np.std(imp, axis=0,ddof = 1)))\n",
    "Feature_imp_std = pd.DataFrame(Feature_imp_std)\n",
    "# Feature_imp_std.to_csv(\"list-RFE-feature-importance.csv\",index=False,sep=',')\n",
    "Feature_imp_std.to_csv(\"list-GP-feature-importance.csv\",index=False,sep=',')"
   ]
  }
 ],
 "metadata": {
  "kernelspec": {
   "display_name": "Python 3",
   "language": "python",
   "name": "python3"
  },
  "language_info": {
   "codemirror_mode": {
    "name": "ipython",
    "version": 3
   },
   "file_extension": ".py",
   "mimetype": "text/x-python",
   "name": "python",
   "nbconvert_exporter": "python",
   "pygments_lexer": "ipython3",
   "version": "3.8.5"
  },
  "varInspector": {
   "cols": {
    "lenName": 16,
    "lenType": 16,
    "lenVar": 40
   },
   "kernels_config": {
    "python": {
     "delete_cmd_postfix": "",
     "delete_cmd_prefix": "del ",
     "library": "var_list.py",
     "varRefreshCmd": "print(var_dic_list())"
    },
    "r": {
     "delete_cmd_postfix": ") ",
     "delete_cmd_prefix": "rm(",
     "library": "var_list.r",
     "varRefreshCmd": "cat(var_dic_list()) "
    }
   },
   "position": {
    "height": "410.4px",
    "left": "533.2px",
    "right": "20px",
    "top": "196px",
    "width": "628px"
   },
   "types_to_exclude": [
    "module",
    "function",
    "builtin_function_or_method",
    "instance",
    "_Feature"
   ],
   "window_display": false
  }
 },
 "nbformat": 4,
 "nbformat_minor": 4
}
